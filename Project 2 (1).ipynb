{
 "cells": [
  {
   "cell_type": "code",
   "execution_count": 34,
   "id": "3e9b598d",
   "metadata": {},
   "outputs": [
    {
     "name": "stdout",
     "output_type": "stream",
     "text": [
      "(309, 16)\n",
      "GENDER                   object\n",
      "AGE                       int64\n",
      "SMOKING                   int64\n",
      "YELLOW_FINGERS            int64\n",
      "ANXIETY                   int64\n",
      "PEER_PRESSURE             int64\n",
      "CHRONIC DISEASE           int64\n",
      "FATIGUE                   int64\n",
      "ALLERGY                   int64\n",
      "WHEEZING                  int64\n",
      "ALCOHOL CONSUMING         int64\n",
      "COUGHING                  int64\n",
      "SHORTNESS OF BREATH       int64\n",
      "SWALLOWING DIFFICULTY     int64\n",
      "CHEST PAIN                int64\n",
      "LUNG_CANCER              object\n",
      "dtype: object\n"
     ]
    }
   ],
   "source": [
    "import pandas as pd\n",
    "from sklearn import svm, datasets\n",
    "import matplotlib.pyplot as plt\n",
    "import seaborn as sns \n",
    "from sklearn.model_selection import train_test_split \n",
    "from sklearn.linear_model import LogisticRegression\n",
    "from sklearn.linear_model import LinearRegression\n",
    "\n",
    "from sklearn.metrics import log_loss, roc_auc_score, recall_score, precision_score, average_precision_score, f1_score, classification_report, accuracy_score\n",
    "from sklearn.feature_selection import SelectKBest, f_classif, chi2\n",
    "import numpy as np\n",
    "df = pd.read_csv('lung_cancer.csv')\n",
    "df.dropna(axis='columns')\n",
    "df.drop_duplicates()\n",
    "print (df.shape)\n",
    "print (df.dtypes)\n",
    "\n",
    "\n",
    "\n"
   ]
  },
  {
   "cell_type": "markdown",
   "id": "46d2289f",
   "metadata": {},
   "source": [
    "1.The problem in the dataset I chose is lung cancer and I am trying to see what columns have a relation with my target. The target variable is lung cancer and my prediction goal is that I want to see what features is a cause od lung cancer."
   ]
  },
  {
   "cell_type": "code",
   "execution_count": 35,
   "id": "9ff0a1a0",
   "metadata": {},
   "outputs": [
    {
     "name": "stdout",
     "output_type": "stream",
     "text": [
      "<class 'pandas.core.frame.DataFrame'>\n",
      "RangeIndex: 309 entries, 0 to 308\n",
      "Data columns (total 16 columns):\n",
      " #   Column                 Non-Null Count  Dtype \n",
      "---  ------                 --------------  ----- \n",
      " 0   GENDER                 309 non-null    object\n",
      " 1   AGE                    309 non-null    int64 \n",
      " 2   SMOKING                309 non-null    int64 \n",
      " 3   YELLOW_FINGERS         309 non-null    int64 \n",
      " 4   ANXIETY                309 non-null    int64 \n",
      " 5   PEER_PRESSURE          309 non-null    int64 \n",
      " 6   CHRONIC DISEASE        309 non-null    int64 \n",
      " 7   FATIGUE                309 non-null    int64 \n",
      " 8   ALLERGY                309 non-null    int64 \n",
      " 9   WHEEZING               309 non-null    int64 \n",
      " 10  ALCOHOL CONSUMING      309 non-null    int64 \n",
      " 11  COUGHING               309 non-null    int64 \n",
      " 12  SHORTNESS OF BREATH    309 non-null    int64 \n",
      " 13  SWALLOWING DIFFICULTY  309 non-null    int64 \n",
      " 14  CHEST PAIN             309 non-null    int64 \n",
      " 15  LUNG_CANCER            309 non-null    object\n",
      "dtypes: int64(14), object(2)\n",
      "memory usage: 38.8+ KB\n"
     ]
    }
   ],
   "source": [
    "df.value_counts(dropna=False)\n",
    "df.info()"
   ]
  },
  {
   "cell_type": "code",
   "execution_count": null,
   "id": "bf86faee",
   "metadata": {},
   "outputs": [],
   "source": [
    "2. I removed duplicates and dropped the unwanted features. Smoking, Chronic Disease, and Shortnes of breath are the features that I have to drop."
   ]
  },
  {
   "cell_type": "code",
   "execution_count": 36,
   "id": "3b924f52",
   "metadata": {},
   "outputs": [],
   "source": [
    "df.replace(1, 0, inplace=True)\n",
    "df.replace(2, 1, inplace=True)\n",
    "df.replace('NO',0, inplace=True)\n",
    "df.replace('YES',1, inplace = True)"
   ]
  },
  {
   "cell_type": "code",
   "execution_count": 37,
   "id": "bb4d2135",
   "metadata": {},
   "outputs": [
    {
     "name": "stdout",
     "output_type": "stream",
     "text": [
      "  GENDER  AGE  SMOKING  YELLOW_FINGERS  ANXIETY  PEER_PRESSURE  \\\n",
      "0      M   69        0               1        1              0   \n",
      "1      M   74        1               0        0              0   \n",
      "2      F   59        0               0        0              1   \n",
      "3      M   63        1               1        1              0   \n",
      "4      F   63        0               1        0              0   \n",
      "\n",
      "   CHRONIC DISEASE  FATIGUE   ALLERGY   WHEEZING  ALCOHOL CONSUMING  COUGHING  \\\n",
      "0                0         1         0         1                  1         1   \n",
      "1                1         1         1         0                  0         0   \n",
      "2                0         1         0         1                  0         1   \n",
      "3                0         0         0         0                  1         0   \n",
      "4                0         0         0         1                  0         1   \n",
      "\n",
      "   SHORTNESS OF BREATH  SWALLOWING DIFFICULTY  CHEST PAIN  LUNG_CANCER  \n",
      "0                    1                      1           1            1  \n",
      "1                    1                      1           1            1  \n",
      "2                    1                      0           1            0  \n",
      "3                    0                      1           1            0  \n",
      "4                    1                      0           0            0  \n"
     ]
    }
   ],
   "source": [
    "print(df.head())"
   ]
  },
  {
   "cell_type": "code",
   "execution_count": 38,
   "id": "25facbda",
   "metadata": {
    "scrolled": true
   },
   "outputs": [
    {
     "data": {
      "image/png": "[encoded data removed]",
      "text/plain": [
       "<Figure size 1500x3000 with 12 Axes>"
      ]
     },
     "metadata": {},
     "output_type": "display_data"
    }
   ],
   "source": [
    "df_list=['GENDER','SMOKING','YELLOW_FINGERS','ANXIETY','PEER_PRESSURE','CHRONIC DISEASE','WHEEZING','ALCOHOL CONSUMING','COUGHING','SHORTNESS OF BREATH','SWALLOWING DIFFICULTY','CHEST PAIN']\n",
    "fig = plt.figure(figsize=(15,30))\n",
    "for i in range(len(df_list)):\n",
    "    column=df_list[i]\n",
    "    sub=fig.add_subplot(9,5,i+1)\n",
    "    chart = sns.countplot(x=column,hue='LUNG_CANCER',data=df)\n"
   ]
  },
  {
   "cell_type": "code",
   "execution_count": 49,
   "id": "b50d7a5a",
   "metadata": {},
   "outputs": [
    {
     "data": {
      "text/html": [
       "<div>\n",
       "<style scoped>\n",
       "    .dataframe tbody tr th:only-of-type {\n",
       "        vertical-align: middle;\n",
       "    }\n",
       "\n",
       "    .dataframe tbody tr th {\n",
       "        vertical-align: top;\n",
       "    }\n",
       "\n",
       "    .dataframe thead th {\n",
       "        text-align: right;\n",
       "    }\n",
       "</style>\n",
       "<table border=\"1\" class=\"dataframe\">\n",
       "  <thead>\n",
       "    <tr style=\"text-align: right;\">\n",
       "      <th></th>\n",
       "      <th>SMOKING</th>\n",
       "      <th>YELLOW_FINGERS</th>\n",
       "      <th>FATIGUE</th>\n",
       "      <th>ALLERGY</th>\n",
       "      <th>WHEEZING</th>\n",
       "      <th>ALCOHOL CONSUMING</th>\n",
       "      <th>COUGHING</th>\n",
       "      <th>SHORTNESS OF BREATH</th>\n",
       "      <th>LUNG_CANCER</th>\n",
       "    </tr>\n",
       "  </thead>\n",
       "  <tbody>\n",
       "    <tr>\n",
       "      <th>0</th>\n",
       "      <td>0</td>\n",
       "      <td>1</td>\n",
       "      <td>1</td>\n",
       "      <td>0</td>\n",
       "      <td>1</td>\n",
       "      <td>1</td>\n",
       "      <td>1</td>\n",
       "      <td>1</td>\n",
       "      <td>1</td>\n",
       "    </tr>\n",
       "    <tr>\n",
       "      <th>1</th>\n",
       "      <td>1</td>\n",
       "      <td>0</td>\n",
       "      <td>1</td>\n",
       "      <td>1</td>\n",
       "      <td>0</td>\n",
       "      <td>0</td>\n",
       "      <td>0</td>\n",
       "      <td>1</td>\n",
       "      <td>1</td>\n",
       "    </tr>\n",
       "    <tr>\n",
       "      <th>2</th>\n",
       "      <td>0</td>\n",
       "      <td>0</td>\n",
       "      <td>1</td>\n",
       "      <td>0</td>\n",
       "      <td>1</td>\n",
       "      <td>0</td>\n",
       "      <td>1</td>\n",
       "      <td>1</td>\n",
       "      <td>0</td>\n",
       "    </tr>\n",
       "    <tr>\n",
       "      <th>3</th>\n",
       "      <td>1</td>\n",
       "      <td>1</td>\n",
       "      <td>0</td>\n",
       "      <td>0</td>\n",
       "      <td>0</td>\n",
       "      <td>1</td>\n",
       "      <td>0</td>\n",
       "      <td>0</td>\n",
       "      <td>0</td>\n",
       "    </tr>\n",
       "    <tr>\n",
       "      <th>4</th>\n",
       "      <td>0</td>\n",
       "      <td>1</td>\n",
       "      <td>0</td>\n",
       "      <td>0</td>\n",
       "      <td>1</td>\n",
       "      <td>0</td>\n",
       "      <td>1</td>\n",
       "      <td>1</td>\n",
       "      <td>0</td>\n",
       "    </tr>\n",
       "    <tr>\n",
       "      <th>...</th>\n",
       "      <td>...</td>\n",
       "      <td>...</td>\n",
       "      <td>...</td>\n",
       "      <td>...</td>\n",
       "      <td>...</td>\n",
       "      <td>...</td>\n",
       "      <td>...</td>\n",
       "      <td>...</td>\n",
       "      <td>...</td>\n",
       "    </tr>\n",
       "    <tr>\n",
       "      <th>304</th>\n",
       "      <td>0</td>\n",
       "      <td>0</td>\n",
       "      <td>1</td>\n",
       "      <td>0</td>\n",
       "      <td>0</td>\n",
       "      <td>1</td>\n",
       "      <td>1</td>\n",
       "      <td>1</td>\n",
       "      <td>1</td>\n",
       "    </tr>\n",
       "    <tr>\n",
       "      <th>305</th>\n",
       "      <td>1</td>\n",
       "      <td>0</td>\n",
       "      <td>1</td>\n",
       "      <td>1</td>\n",
       "      <td>1</td>\n",
       "      <td>1</td>\n",
       "      <td>1</td>\n",
       "      <td>1</td>\n",
       "      <td>1</td>\n",
       "    </tr>\n",
       "    <tr>\n",
       "      <th>306</th>\n",
       "      <td>1</td>\n",
       "      <td>0</td>\n",
       "      <td>0</td>\n",
       "      <td>1</td>\n",
       "      <td>1</td>\n",
       "      <td>1</td>\n",
       "      <td>1</td>\n",
       "      <td>0</td>\n",
       "      <td>1</td>\n",
       "    </tr>\n",
       "    <tr>\n",
       "      <th>307</th>\n",
       "      <td>1</td>\n",
       "      <td>0</td>\n",
       "      <td>1</td>\n",
       "      <td>1</td>\n",
       "      <td>0</td>\n",
       "      <td>1</td>\n",
       "      <td>1</td>\n",
       "      <td>1</td>\n",
       "      <td>1</td>\n",
       "    </tr>\n",
       "    <tr>\n",
       "      <th>308</th>\n",
       "      <td>0</td>\n",
       "      <td>0</td>\n",
       "      <td>1</td>\n",
       "      <td>1</td>\n",
       "      <td>1</td>\n",
       "      <td>1</td>\n",
       "      <td>0</td>\n",
       "      <td>0</td>\n",
       "      <td>1</td>\n",
       "    </tr>\n",
       "  </tbody>\n",
       "</table>\n",
       "<p>309 rows × 9 columns</p>\n",
       "</div>"
      ],
      "text/plain": [
       "     SMOKING  YELLOW_FINGERS  FATIGUE   ALLERGY   WHEEZING  ALCOHOL CONSUMING  \\\n",
       "0          0               1         1         0         1                  1   \n",
       "1          1               0         1         1         0                  0   \n",
       "2          0               0         1         0         1                  0   \n",
       "3          1               1         0         0         0                  1   \n",
       "4          0               1         0         0         1                  0   \n",
       "..       ...             ...       ...       ...       ...                ...   \n",
       "304        0               0         1         0         0                  1   \n",
       "305        1               0         1         1         1                  1   \n",
       "306        1               0         0         1         1                  1   \n",
       "307        1               0         1         1         0                  1   \n",
       "308        0               0         1         1         1                  1   \n",
       "\n",
       "     COUGHING  SHORTNESS OF BREATH  LUNG_CANCER  \n",
       "0           1                    1            1  \n",
       "1           0                    1            1  \n",
       "2           1                    1            0  \n",
       "3           0                    0            0  \n",
       "4           1                    1            0  \n",
       "..        ...                  ...          ...  \n",
       "304         1                    1            1  \n",
       "305         1                    1            1  \n",
       "306         1                    0            1  \n",
       "307         1                    1            1  \n",
       "308         0                    0            1  \n",
       "\n",
       "[309 rows x 9 columns]"
      ]
     },
     "execution_count": 49,
     "metadata": {},
     "output_type": "execute_result"
    },
    {
     "data": {
      "image/png": "[encoded data removed]",
      "text/plain": [
       "<Figure size 1500x3000 with 1 Axes>"
      ]
     },
     "metadata": {},
     "output_type": "display_data"
    }
   ],
   "source": [
    "num_list=['AGE']\n",
    "fig=plt.figure(figsize=(15, 30))\n",
    "\n",
    "for i in range(len(num_list)):\n",
    "    column=num_list[i]\n",
    "    sub=fig.add_subplot(5,2,i+1)\n",
    "    sns.boxplot(x='LUNG_CANCER',y=column, data=df)\n",
    "df.drop(columns = ['AGE','GENDER','ANXIETY','PEER_PRESSURE','CHRONIC DISEASE','CHEST PAIN','SWALLOWING DIFFICULTY','SMOKING'])"
   ]
  },
  {
   "cell_type": "markdown",
   "id": "2014efe0",
   "metadata": {},
   "source": [
    "3.\n",
    "Yes I dropped smoking,chronic disease, and shortness of breath. I used the chi-squared test and smoking, chronic disease, shortness of breath has the little varience. Gender, smoking,Anxiety, peer pressure, chronic disease and age irrevalent features.  I also had to change the peer pressure answers from yes and no to 0 and 1."
   ]
  },
  {
   "cell_type": "code",
   "execution_count": 48,
   "id": "68f8871d",
   "metadata": {},
   "outputs": [
    {
     "name": "stdout",
     "output_type": "stream",
     "text": [
      "[ 0.45694567  4.37354798  3.25649906  5.35001379  1.88141574  8.51461439\n",
      " 11.40541145  8.03232106  0.40949668 11.06336575  4.96919102]\n",
      "[0.49905489 0.03650092 0.07114086 0.02072211 0.17017333 0.00352306\n",
      " 0.0007323  0.00459499 0.52222508 0.0008805  0.02580271]\n"
     ]
    }
   ],
   "source": [
    "x = df.loc[:, ['SMOKING','YELLOW_FINGERS','ANXIETY','PEER_PRESSURE','CHRONIC DISEASE','WHEEZING','ALCOHOL CONSUMING','COUGHING','SHORTNESS OF BREATH','SWALLOWING DIFFICULTY','CHEST PAIN']]\n",
    "y = df.loc[:,'LUNG_CANCER']\n",
    "\n",
    "fs = SelectKBest(score_func=chi2, k='all')  # call the method\n",
    "bestFeatures = fs.fit(x, y)    # train the model\n",
    "np.set_printoptions(suppress = True)\n",
    "print(bestFeatures.scores_)    # print out the scores \n",
    "print(bestFeatures.pvalues_)"
   ]
  },
  {
   "cell_type": "markdown",
   "id": "57f7179e",
   "metadata": {},
   "source": [
    "4.No the dataset is balanced I used the train test split to validate the result. I used the pvalues and features. The accuracy score is high. Its a 94 witch mean that I have a good model and it passed."
   ]
  },
  {
   "cell_type": "code",
   "execution_count": 41,
   "id": "d7b96cf6",
   "metadata": {},
   "outputs": [],
   "source": [
    "x = df.iloc[:,1:-1]\n",
    "y = df['LUNG_CANCER']\n",
    "x_train, x_test, y_train, y_test = train_test_split(x, y, test_size=0.3, random_state=0, stratify=y)  "
   ]
  },
  {
   "cell_type": "code",
   "execution_count": 42,
   "id": "3c9929b5",
   "metadata": {},
   "outputs": [
    {
     "name": "stdout",
     "output_type": "stream",
     "text": [
      "     AGE  SMOKING  YELLOW_FINGERS  ANXIETY  PEER_PRESSURE  CHRONIC DISEASE  \\\n",
      "281   55        1               0        0              0                0   \n",
      "147   56        0               0        0              1                1   \n",
      "288   61        0               1        1              1                0   \n",
      "89    55        1               0        0              1                1   \n",
      "292   69        0               0        1              0                0   \n",
      "..   ...      ...             ...      ...            ...              ...   \n",
      "177   64        1               0        0              0                0   \n",
      "269   55        0               0        0              0                1   \n",
      "184   72        1               0        0              0                0   \n",
      "6     52        1               0        0              0                0   \n",
      "104   72        1               1        1              1                0   \n",
      "\n",
      "     FATIGUE   ALLERGY   WHEEZING  ALCOHOL CONSUMING  COUGHING  \\\n",
      "281         1         1         0                  0         0   \n",
      "147         1         0         0                  1         1   \n",
      "288         0         1         1                  0         1   \n",
      "89          1         1         1                  1         0   \n",
      "292         1         0         1                  1         1   \n",
      "..        ...       ...       ...                ...       ...   \n",
      "177         1         0         1                  1         1   \n",
      "269         1         1         1                  1         1   \n",
      "184         1         1         1                  1         1   \n",
      "6           1         0         1                  1         1   \n",
      "104         1         0         0                  0         1   \n",
      "\n",
      "     SHORTNESS OF BREATH  SWALLOWING DIFFICULTY  CHEST PAIN  \n",
      "281                    1                      0           1  \n",
      "147                    1                      1           0  \n",
      "288                    0                      1           0  \n",
      "89                     0                      1           1  \n",
      "292                    1                      1           0  \n",
      "..                   ...                    ...         ...  \n",
      "177                    1                      0           0  \n",
      "269                    1                      0           1  \n",
      "184                    1                      0           1  \n",
      "6                      1                      0           1  \n",
      "104                    1                      1           1  \n",
      "\n",
      "[216 rows x 14 columns]\n",
      "281    0\n",
      "147    1\n",
      "288    1\n",
      "89     1\n",
      "292    1\n",
      "      ..\n",
      "177    1\n",
      "269    1\n",
      "184    1\n",
      "6      1\n",
      "104    1\n",
      "Name: LUNG_CANCER, Length: 216, dtype: int64\n"
     ]
    }
   ],
   "source": [
    "print(x_train)\n",
    "print(y_train)"
   ]
  },
  {
   "cell_type": "code",
   "execution_count": 43,
   "id": "7d5b03da",
   "metadata": {},
   "outputs": [
    {
     "name": "stdout",
     "output_type": "stream",
     "text": [
      "(216, 14)\n",
      "(378, 14)\n"
     ]
    }
   ],
   "source": [
    "from imblearn.over_sampling import SMOTE\n",
    "os = SMOTE(random_state=0)  # call the method.\n",
    "oversampled_x,oversampled_y=os.fit_resample(x_train, y_train)\n",
    "\n",
    "print(x_train.shape)\n",
    "print(oversampled_x.shape)\n"
   ]
  },
  {
   "cell_type": "code",
   "execution_count": 44,
   "id": "b3062c5c",
   "metadata": {},
   "outputs": [
    {
     "name": "stderr",
     "output_type": "stream",
     "text": [
      "C:\\Users\\laqui\\anaconda3\\anaconda\\Lib\\site-packages\\sklearn\\linear_model\\_logistic.py:1173: FutureWarning: `penalty='none'`has been deprecated in 1.2 and will be removed in 1.4. To keep the past behaviour, set `penalty=None`.\n",
      "  warnings.warn(\n"
     ]
    },
    {
     "data": {
      "text/plain": [
       "0.9354838709677419"
      ]
     },
     "execution_count": 44,
     "metadata": {},
     "output_type": "execute_result"
    }
   ],
   "source": [
    "LogRegression = LogisticRegression(penalty='none', max_iter=2000)\n",
    "LogRegression.fit(oversampled_x, oversampled_y.values.ravel())\n",
    "test_pred = LogRegression.predict(x_test)\n",
    "accuracy_score(y_test, test_pred)\n",
    "\n"
   ]
  },
  {
   "cell_type": "code",
   "execution_count": 50,
   "id": "1b535e79",
   "metadata": {},
   "outputs": [
    {
     "name": "stdout",
     "output_type": "stream",
     "text": [
      "                            AGE   SMOKING  YELLOW_FINGERS   ANXIETY  \\\n",
      "AGE                    1.000000 -0.084475        0.005205  0.053170   \n",
      "SMOKING               -0.084475  1.000000       -0.014585  0.160267   \n",
      "YELLOW_FINGERS         0.005205 -0.014585        1.000000  0.565829   \n",
      "ANXIETY                0.053170  0.160267        0.565829  1.000000   \n",
      "PEER_PRESSURE          0.018685 -0.042822        0.323083  0.216841   \n",
      "CHRONIC DISEASE       -0.012642 -0.141522        0.041122 -0.009678   \n",
      "FATIGUE                0.012614 -0.029575       -0.118058 -0.188538   \n",
      "ALLERGY                0.027990  0.001913       -0.144300 -0.165750   \n",
      "WHEEZING               0.055011 -0.129426       -0.078515 -0.191807   \n",
      "ALCOHOL CONSUMING      0.058985 -0.050623       -0.289025 -0.165750   \n",
      "COUGHING               0.169950 -0.129471       -0.012640 -0.225644   \n",
      "SHORTNESS OF BREATH   -0.017513  0.061264       -0.105944 -0.144077   \n",
      "SWALLOWING DIFFICULTY -0.001270  0.030718        0.345904  0.489403   \n",
      "CHEST PAIN            -0.018104  0.120117       -0.104829 -0.113634   \n",
      "LUNG_CANCER            0.089465  0.058179        0.181339  0.144947   \n",
      "\n",
      "                       PEER_PRESSURE  CHRONIC DISEASE  FATIGUE   ALLERGY   \\\n",
      "AGE                         0.018685        -0.012642  0.012614  0.027990   \n",
      "SMOKING                    -0.042822        -0.141522 -0.029575  0.001913   \n",
      "YELLOW_FINGERS              0.323083         0.041122 -0.118058 -0.144300   \n",
      "ANXIETY                     0.216841        -0.009678 -0.188538 -0.165750   \n",
      "PEER_PRESSURE               1.000000         0.048515  0.078148 -0.081800   \n",
      "CHRONIC DISEASE             0.048515         1.000000 -0.110529  0.106386   \n",
      "FATIGUE                     0.078148        -0.110529  1.000000  0.003056   \n",
      "ALLERGY                    -0.081800         0.106386  0.003056  1.000000   \n",
      "WHEEZING                   -0.068771        -0.049967  0.141937  0.173867   \n",
      "ALCOHOL CONSUMING          -0.159973         0.002150 -0.191377  0.344339   \n",
      "COUGHING                   -0.089019        -0.175287  0.146856  0.189524   \n",
      "SHORTNESS OF BREATH        -0.220175        -0.026459  0.441745 -0.030056   \n",
      "SWALLOWING DIFFICULTY       0.366590         0.075176 -0.132790 -0.061508   \n",
      "CHEST PAIN                 -0.094828        -0.036938 -0.010832  0.239433   \n",
      "LUNG_CANCER                 0.186388         0.110891  0.150673  0.327766   \n",
      "\n",
      "                       WHEEZING  ALCOHOL CONSUMING  COUGHING  \\\n",
      "AGE                    0.055011           0.058985  0.169950   \n",
      "SMOKING               -0.129426          -0.050623 -0.129471   \n",
      "YELLOW_FINGERS        -0.078515          -0.289025 -0.012640   \n",
      "ANXIETY               -0.191807          -0.165750 -0.225644   \n",
      "PEER_PRESSURE         -0.068771          -0.159973 -0.089019   \n",
      "CHRONIC DISEASE       -0.049967           0.002150 -0.175287   \n",
      "FATIGUE                0.141937          -0.191377  0.146856   \n",
      "ALLERGY                0.173867           0.344339  0.189524   \n",
      "WHEEZING               1.000000           0.265659  0.374265   \n",
      "ALCOHOL CONSUMING      0.265659           1.000000  0.202720   \n",
      "COUGHING               0.374265           0.202720  1.000000   \n",
      "SHORTNESS OF BREATH    0.037834          -0.179416  0.277385   \n",
      "SWALLOWING DIFFICULTY  0.069027          -0.009294 -0.157586   \n",
      "CHEST PAIN             0.147640           0.331226  0.083958   \n",
      "LUNG_CANCER            0.249300           0.288533  0.248570   \n",
      "\n",
      "                       SHORTNESS OF BREATH  SWALLOWING DIFFICULTY  CHEST PAIN  \\\n",
      "AGE                              -0.017513              -0.001270   -0.018104   \n",
      "SMOKING                           0.061264               0.030718    0.120117   \n",
      "YELLOW_FINGERS                   -0.105944               0.345904   -0.104829   \n",
      "ANXIETY                          -0.144077               0.489403   -0.113634   \n",
      "PEER_PRESSURE                    -0.220175               0.366590   -0.094828   \n",
      "CHRONIC DISEASE                  -0.026459               0.075176   -0.036938   \n",
      "FATIGUE                           0.441745              -0.132790   -0.010832   \n",
      "ALLERGY                          -0.030056              -0.061508    0.239433   \n",
      "WHEEZING                          0.037834               0.069027    0.147640   \n",
      "ALCOHOL CONSUMING                -0.179416              -0.009294    0.331226   \n",
      "COUGHING                          0.277385              -0.157586    0.083958   \n",
      "SHORTNESS OF BREATH               1.000000              -0.161015    0.024256   \n",
      "SWALLOWING DIFFICULTY            -0.161015               1.000000    0.069027   \n",
      "CHEST PAIN                        0.024256               0.069027    1.000000   \n",
      "LUNG_CANCER                       0.060738               0.259730    0.190451   \n",
      "\n",
      "                       LUNG_CANCER  \n",
      "AGE                       0.089465  \n",
      "SMOKING                   0.058179  \n",
      "YELLOW_FINGERS            0.181339  \n",
      "ANXIETY                   0.144947  \n",
      "PEER_PRESSURE             0.186388  \n",
      "CHRONIC DISEASE           0.110891  \n",
      "FATIGUE                   0.150673  \n",
      "ALLERGY                   0.327766  \n",
      "WHEEZING                  0.249300  \n",
      "ALCOHOL CONSUMING         0.288533  \n",
      "COUGHING                  0.248570  \n",
      "SHORTNESS OF BREATH       0.060738  \n",
      "SWALLOWING DIFFICULTY     0.259730  \n",
      "CHEST PAIN                0.190451  \n",
      "LUNG_CANCER               1.000000  \n"
     ]
    },
    {
     "name": "stderr",
     "output_type": "stream",
     "text": [
      "C:\\Users\\laqui\\AppData\\Local\\Temp\\ipykernel_12104\\1494722421.py:1: FutureWarning: The default value of numeric_only in DataFrame.corr is deprecated. In a future version, it will default to False. Select only valid columns or specify the value of numeric_only to silence this warning.\n",
      "  print (df.corr())\n"
     ]
    }
   ],
   "source": [
    "print (df.corr())"
   ]
  }
 ],
 "metadata": {
  "kernelspec": {
   "display_name": "Python 3 (ipykernel)",
   "language": "python",
   "name": "python3"
  },
  "language_info": {
   "codemirror_mode": {
    "name": "ipython",
    "version": 3
   },
   "file_extension": ".py",
   "mimetype": "text/x-python",
   "name": "python",
   "nbconvert_exporter": "python",
   "pygments_lexer": "ipython3",
   "version": "3.11.4"
  }
 },
 "nbformat": 4,
 "nbformat_minor": 5
}
